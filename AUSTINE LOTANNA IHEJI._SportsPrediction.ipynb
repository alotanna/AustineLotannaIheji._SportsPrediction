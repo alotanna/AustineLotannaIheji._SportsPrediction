{
 "cells": [
  {
   "cell_type": "markdown",
   "id": "119a7e9d-0feb-47c5-a994-e9e2f853742c",
   "metadata": {
    "id": "119a7e9d-0feb-47c5-a994-e9e2f853742c"
   },
   "source": [
    "## **Importing libraries for use**"
   ]
  },
  {
   "cell_type": "code",
   "execution_count": 117,
   "id": "63637563-c3c7-48a9-a223-a99a131b6750",
   "metadata": {
    "id": "63637563-c3c7-48a9-a223-a99a131b6750"
   },
   "outputs": [],
   "source": [
    "import pandas as pd\n",
    "import numpy as np\n",
    "import seaborn as sns\n",
    "import matplotlib.pyplot as plt\n",
    "from sklearn.model_selection import train_test_split\n",
    "import pickle as pkl\n",
    "import joblib as jb\n",
    "from sklearn.impute import IterativeImputer"
   ]
  },
  {
   "cell_type": "code",
   "execution_count": 273,
   "id": "1099d803-52c4-47bd-b14e-b8d6f8432a86",
   "metadata": {},
   "outputs": [],
   "source": [
    "from sklearn.metrics import mean_absolute_error, mean_squared_error, r2_score\n",
    "from sklearn.svm import SVR\n",
    "from sklearn.tree import DecisionTreeRegressor\n",
    "from sklearn.linear_model import LinearRegression\n",
    "from xgboost import XGBRegressor\n",
    "from sklearn.ensemble import RandomForestRegressor, GradientBoostingRegressor, VotingRegressor, AdaBoostRegressor\n",
    "from sklearn.model_selection import cross_val_score, RandomizedSearchCV\n",
    "from sklearn.model_selection import train_test_split,KFold,GridSearchCV,cross_val_predict"
   ]
  },
  {
   "cell_type": "markdown",
   "id": "6090fe75-f3ac-4ecc-8c1f-da37125e84fd",
   "metadata": {
    "id": "6090fe75-f3ac-4ecc-8c1f-da37125e84fd"
   },
   "source": [
    "## **Reading from the CSV files**"
   ]
  },
  {
   "cell_type": "code",
   "execution_count": 338,
   "id": "138fcc74-e6ef-4fb1-919d-19e154471cb5",
   "metadata": {
    "id": "138fcc74-e6ef-4fb1-919d-19e154471cb5"
   },
   "outputs": [],
   "source": [
    "male_legacy = pd.read_csv(\"male_players (legacy).csv\", low_memory=False)"
   ]
  },
  {
   "cell_type": "code",
   "execution_count": 276,
   "id": "JB-bOfeMV7ng",
   "metadata": {
    "colab": {
     "base_uri": "https://localhost:8080/"
    },
    "id": "JB-bOfeMV7ng",
    "outputId": "01427417-b987-4a2c-fbb3-6575c141687f"
   },
   "outputs": [
    {
     "name": "stdout",
     "output_type": "stream",
     "text": [
      "<class 'pandas.core.frame.DataFrame'>\n",
      "RangeIndex: 161583 entries, 0 to 161582\n",
      "Columns: 110 entries, player_id to player_face_url\n",
      "dtypes: float64(18), int64(45), object(47)\n",
      "memory usage: 135.6+ MB\n"
     ]
    }
   ],
   "source": [
    "male_legacy.info()"
   ]
  },
  {
   "cell_type": "markdown",
   "id": "cbb67b58-696c-4ece-8720-103cc7b0acc4",
   "metadata": {
    "id": "cbb67b58-696c-4ece-8720-103cc7b0acc4"
   },
   "source": [
    "## **1. Data Cleaning for both the Male legacy and FIFA 22 dataset**"
   ]
  },
  {
   "cell_type": "code",
   "execution_count": 277,
   "id": "ab1879b6-82c6-4bfa-b71a-84c5d371ec22",
   "metadata": {
    "id": "ab1879b6-82c6-4bfa-b71a-84c5d371ec22"
   },
   "outputs": [],
   "source": [
    "for i in male_legacy.columns:\n",
    "    if 'url' in i:\n",
    "        male_legacy.drop(i,axis=1, inplace = True)"
   ]
  },
  {
   "cell_type": "markdown",
   "id": "230a30c7-f218-43c4-84e5-2715296c8707",
   "metadata": {
    "id": "230a30c7-f218-43c4-84e5-2715296c8707"
   },
   "source": [
    "**Dropping columns with 30% or more null values**"
   ]
  },
  {
   "cell_type": "code",
   "execution_count": 278,
   "id": "904f52d5-5e4a-4f1a-875d-e1ac08afe8fb",
   "metadata": {
    "colab": {
     "base_uri": "https://localhost:8080/",
     "height": 1000
    },
    "id": "904f52d5-5e4a-4f1a-875d-e1ac08afe8fb",
    "outputId": "d6b13391-2ac6-4808-d349-b349427477d3"
   },
   "outputs": [
    {
     "data": {
      "text/html": [
       "<div>\n",
       "<style scoped>\n",
       "    .dataframe tbody tr th:only-of-type {\n",
       "        vertical-align: middle;\n",
       "    }\n",
       "\n",
       "    .dataframe tbody tr th {\n",
       "        vertical-align: top;\n",
       "    }\n",
       "\n",
       "    .dataframe thead th {\n",
       "        text-align: right;\n",
       "    }\n",
       "</style>\n",
       "<table border=\"1\" class=\"dataframe\">\n",
       "  <thead>\n",
       "    <tr style=\"text-align: right;\">\n",
       "      <th></th>\n",
       "      <th>player_id</th>\n",
       "      <th>fifa_version</th>\n",
       "      <th>fifa_update</th>\n",
       "      <th>fifa_update_date</th>\n",
       "      <th>short_name</th>\n",
       "      <th>long_name</th>\n",
       "      <th>player_positions</th>\n",
       "      <th>overall</th>\n",
       "      <th>potential</th>\n",
       "      <th>value_eur</th>\n",
       "      <th>...</th>\n",
       "      <th>ldm</th>\n",
       "      <th>cdm</th>\n",
       "      <th>rdm</th>\n",
       "      <th>rwb</th>\n",
       "      <th>lb</th>\n",
       "      <th>lcb</th>\n",
       "      <th>cb</th>\n",
       "      <th>rcb</th>\n",
       "      <th>rb</th>\n",
       "      <th>gk</th>\n",
       "    </tr>\n",
       "  </thead>\n",
       "  <tbody>\n",
       "    <tr>\n",
       "      <th>0</th>\n",
       "      <td>158023</td>\n",
       "      <td>15</td>\n",
       "      <td>2</td>\n",
       "      <td>2014-09-18</td>\n",
       "      <td>L. Messi</td>\n",
       "      <td>Lionel Andrés Messi Cuccittini</td>\n",
       "      <td>CF</td>\n",
       "      <td>93</td>\n",
       "      <td>95</td>\n",
       "      <td>100500000.0</td>\n",
       "      <td>...</td>\n",
       "      <td>62+3</td>\n",
       "      <td>62+3</td>\n",
       "      <td>62+3</td>\n",
       "      <td>62+3</td>\n",
       "      <td>54+3</td>\n",
       "      <td>45+3</td>\n",
       "      <td>45+3</td>\n",
       "      <td>45+3</td>\n",
       "      <td>54+3</td>\n",
       "      <td>15+3</td>\n",
       "    </tr>\n",
       "    <tr>\n",
       "      <th>1</th>\n",
       "      <td>20801</td>\n",
       "      <td>15</td>\n",
       "      <td>2</td>\n",
       "      <td>2014-09-18</td>\n",
       "      <td>Cristiano Ronaldo</td>\n",
       "      <td>Cristiano Ronaldo dos Santos Aveiro</td>\n",
       "      <td>LW, LM</td>\n",
       "      <td>92</td>\n",
       "      <td>92</td>\n",
       "      <td>79000000.0</td>\n",
       "      <td>...</td>\n",
       "      <td>63+3</td>\n",
       "      <td>63+3</td>\n",
       "      <td>63+3</td>\n",
       "      <td>63+3</td>\n",
       "      <td>57+3</td>\n",
       "      <td>52+3</td>\n",
       "      <td>52+3</td>\n",
       "      <td>52+3</td>\n",
       "      <td>57+3</td>\n",
       "      <td>16+3</td>\n",
       "    </tr>\n",
       "    <tr>\n",
       "      <th>2</th>\n",
       "      <td>9014</td>\n",
       "      <td>15</td>\n",
       "      <td>2</td>\n",
       "      <td>2014-09-18</td>\n",
       "      <td>A. Robben</td>\n",
       "      <td>Arjen Robben</td>\n",
       "      <td>RM, LM, RW</td>\n",
       "      <td>90</td>\n",
       "      <td>90</td>\n",
       "      <td>54500000.0</td>\n",
       "      <td>...</td>\n",
       "      <td>64+3</td>\n",
       "      <td>64+3</td>\n",
       "      <td>64+3</td>\n",
       "      <td>64+3</td>\n",
       "      <td>55+3</td>\n",
       "      <td>46+3</td>\n",
       "      <td>46+3</td>\n",
       "      <td>46+3</td>\n",
       "      <td>55+3</td>\n",
       "      <td>14+3</td>\n",
       "    </tr>\n",
       "    <tr>\n",
       "      <th>3</th>\n",
       "      <td>41236</td>\n",
       "      <td>15</td>\n",
       "      <td>2</td>\n",
       "      <td>2014-09-18</td>\n",
       "      <td>Z. Ibrahimović</td>\n",
       "      <td>Zlatan Ibrahimović</td>\n",
       "      <td>ST</td>\n",
       "      <td>90</td>\n",
       "      <td>90</td>\n",
       "      <td>52500000.0</td>\n",
       "      <td>...</td>\n",
       "      <td>65+3</td>\n",
       "      <td>65+3</td>\n",
       "      <td>65+3</td>\n",
       "      <td>61+3</td>\n",
       "      <td>56+3</td>\n",
       "      <td>55+3</td>\n",
       "      <td>55+3</td>\n",
       "      <td>55+3</td>\n",
       "      <td>56+3</td>\n",
       "      <td>17+3</td>\n",
       "    </tr>\n",
       "    <tr>\n",
       "      <th>4</th>\n",
       "      <td>167495</td>\n",
       "      <td>15</td>\n",
       "      <td>2</td>\n",
       "      <td>2014-09-18</td>\n",
       "      <td>M. Neuer</td>\n",
       "      <td>Manuel Peter Neuer</td>\n",
       "      <td>GK</td>\n",
       "      <td>90</td>\n",
       "      <td>90</td>\n",
       "      <td>63500000.0</td>\n",
       "      <td>...</td>\n",
       "      <td>40+3</td>\n",
       "      <td>40+3</td>\n",
       "      <td>40+3</td>\n",
       "      <td>36+3</td>\n",
       "      <td>36+3</td>\n",
       "      <td>38+3</td>\n",
       "      <td>38+3</td>\n",
       "      <td>38+3</td>\n",
       "      <td>36+3</td>\n",
       "      <td>87+3</td>\n",
       "    </tr>\n",
       "  </tbody>\n",
       "</table>\n",
       "<p>5 rows × 102 columns</p>\n",
       "</div>"
      ],
      "text/plain": [
       "   player_id  fifa_version  fifa_update fifa_update_date         short_name  \\\n",
       "0     158023            15            2       2014-09-18           L. Messi   \n",
       "1      20801            15            2       2014-09-18  Cristiano Ronaldo   \n",
       "2       9014            15            2       2014-09-18          A. Robben   \n",
       "3      41236            15            2       2014-09-18     Z. Ibrahimović   \n",
       "4     167495            15            2       2014-09-18           M. Neuer   \n",
       "\n",
       "                             long_name player_positions  overall  potential  \\\n",
       "0       Lionel Andrés Messi Cuccittini               CF       93         95   \n",
       "1  Cristiano Ronaldo dos Santos Aveiro           LW, LM       92         92   \n",
       "2                         Arjen Robben       RM, LM, RW       90         90   \n",
       "3                   Zlatan Ibrahimović               ST       90         90   \n",
       "4                   Manuel Peter Neuer               GK       90         90   \n",
       "\n",
       "     value_eur  ...   ldm   cdm   rdm   rwb    lb   lcb    cb   rcb    rb  \\\n",
       "0  100500000.0  ...  62+3  62+3  62+3  62+3  54+3  45+3  45+3  45+3  54+3   \n",
       "1   79000000.0  ...  63+3  63+3  63+3  63+3  57+3  52+3  52+3  52+3  57+3   \n",
       "2   54500000.0  ...  64+3  64+3  64+3  64+3  55+3  46+3  46+3  46+3  55+3   \n",
       "3   52500000.0  ...  65+3  65+3  65+3  61+3  56+3  55+3  55+3  55+3  56+3   \n",
       "4   63500000.0  ...  40+3  40+3  40+3  36+3  36+3  38+3  38+3  38+3  36+3   \n",
       "\n",
       "     gk  \n",
       "0  15+3  \n",
       "1  16+3  \n",
       "2  14+3  \n",
       "3  17+3  \n",
       "4  87+3  \n",
       "\n",
       "[5 rows x 102 columns]"
      ]
     },
     "execution_count": 278,
     "metadata": {},
     "output_type": "execute_result"
    }
   ],
   "source": [
    "# Dropping columns with 30% or more null values\n",
    "male_legacy.dropna(thresh= 0.3 * len(players_21), axis=1, inplace=True)\n",
    "\n",
    "male_legacy.head()"
   ]
  },
  {
   "cell_type": "markdown",
   "id": "fa14a00d-9d36-42a3-9cec-f85f601c10bd",
   "metadata": {
    "id": "fa14a00d-9d36-42a3-9cec-f85f601c10bd"
   },
   "source": [
    "**Removing unncessary columns**"
   ]
  },
  {
   "cell_type": "code",
   "execution_count": 279,
   "id": "03f87851-085e-40c6-ac63-2ad3f28fe6e2",
   "metadata": {
    "id": "03f87851-085e-40c6-ac63-2ad3f28fe6e2"
   },
   "outputs": [],
   "source": [
    "remove_columns = ['player_positions', 'player_id', 'fifa_version', 'fifa_update_date', 'short_name', 'long_name','club_team_id', 'club_name',\n",
    "                  'league_name','age', 'dob', 'nationality_id', 'nationality_name' , 'real_face','club_position',\n",
    "                  'club_jersey_number','ls', 'st', 'rs',\n",
    "                   'lw', 'lf', 'cf', 'rf', 'rw', 'lam', 'cam', 'ram', 'lm', 'lcm', 'cm',\n",
    "                   'rcm', 'rm', 'lwb', 'ldm', 'cdm', 'rdm', 'rwb', 'lb', 'lcb', 'cb',\n",
    "                   'rcb', 'rb', 'gk','player_traits', 'mentality_composure','release_clause_eur', 'club_joined_date' ]\n",
    "\n",
    "\n",
    "male_legacy = male_legacy.drop(columns=remove_columns)"
   ]
  },
  {
   "cell_type": "markdown",
   "id": "7b3e7d5c-2884-4cbe-85a0-08a9a7147329",
   "metadata": {
    "id": "7b3e7d5c-2884-4cbe-85a0-08a9a7147329"
   },
   "source": [
    "**Seperating the categorical and quantitative data**"
   ]
  },
  {
   "cell_type": "code",
   "execution_count": 280,
   "id": "3060fd4f-9a01-491f-ba6f-97a590caa53e",
   "metadata": {
    "id": "3060fd4f-9a01-491f-ba6f-97a590caa53e"
   },
   "outputs": [],
   "source": [
    "alpha_df = male_legacy.select_dtypes(exclude='number')\n",
    "numeric_df = male_legacy.select_dtypes(include='number')"
   ]
  },
  {
   "cell_type": "markdown",
   "id": "e532e9b0-f5e7-4874-bb2e-d745d1c5b199",
   "metadata": {
    "id": "e532e9b0-f5e7-4874-bb2e-d745d1c5b199"
   },
   "source": [
    "## Working with the numeric data for Male Legacy"
   ]
  },
  {
   "cell_type": "code",
   "execution_count": 281,
   "id": "cebc4d74-cbbe-4e03-ba3e-ded2d0f33221",
   "metadata": {
    "colab": {
     "base_uri": "https://localhost:8080/"
    },
    "id": "cebc4d74-cbbe-4e03-ba3e-ded2d0f33221",
    "outputId": "a6b4a8e3-1150-4c86-bfc3-4cf07ea45a93"
   },
   "outputs": [
    {
     "data": {
      "text/plain": [
       "fifa_update                           0\n",
       "overall                               0\n",
       "potential                             0\n",
       "value_eur                          2053\n",
       "wage_eur                           1761\n",
       "height_cm                             0\n",
       "weight_kg                             0\n",
       "league_id                          1773\n",
       "league_level                       2717\n",
       "club_contract_valid_until_year     1773\n",
       "weak_foot                             0\n",
       "skill_moves                           0\n",
       "international_reputation              0\n",
       "pace                              17969\n",
       "shooting                          17969\n",
       "passing                           17969\n",
       "dribbling                         17969\n",
       "defending                         17969\n",
       "physic                            17969\n",
       "attacking_crossing                    0\n",
       "attacking_finishing                   0\n",
       "attacking_heading_accuracy            0\n",
       "attacking_short_passing               0\n",
       "attacking_volleys                     0\n",
       "skill_dribbling                       0\n",
       "skill_curve                           0\n",
       "skill_fk_accuracy                     0\n",
       "skill_long_passing                    0\n",
       "skill_ball_control                    0\n",
       "movement_acceleration                 0\n",
       "movement_sprint_speed                 0\n",
       "movement_agility                      0\n",
       "movement_reactions                    0\n",
       "movement_balance                      0\n",
       "power_shot_power                      0\n",
       "power_jumping                         0\n",
       "power_stamina                         0\n",
       "power_strength                        0\n",
       "power_long_shots                      0\n",
       "mentality_aggression                  0\n",
       "mentality_interceptions               0\n",
       "mentality_positioning                 0\n",
       "mentality_vision                      0\n",
       "mentality_penalties                   0\n",
       "defending_marking_awareness           0\n",
       "defending_standing_tackle             0\n",
       "defending_sliding_tackle              0\n",
       "goalkeeping_diving                    0\n",
       "goalkeeping_handling                  0\n",
       "goalkeeping_kicking                   0\n",
       "goalkeeping_positioning               0\n",
       "goalkeeping_reflexes                  0\n",
       "dtype: int64"
      ]
     },
     "execution_count": 281,
     "metadata": {},
     "output_type": "execute_result"
    }
   ],
   "source": [
    "nan_count_columns = numeric_df.isna().sum()\n",
    "nan_count_columns"
   ]
  },
  {
   "cell_type": "markdown",
   "id": "08c46bbb-f981-45b9-a105-052d00e6833b",
   "metadata": {
    "id": "08c46bbb-f981-45b9-a105-052d00e6833b"
   },
   "source": [
    "**Imputing the numeric data**"
   ]
  },
  {
   "cell_type": "code",
   "execution_count": 282,
   "id": "d37b3aab-9491-40d9-9089-4aad2df7c5ed",
   "metadata": {
    "id": "d37b3aab-9491-40d9-9089-4aad2df7c5ed"
   },
   "outputs": [],
   "source": [
    "from sklearn.impute import SimpleImputer\n",
    "\n",
    "impute = SimpleImputer(strategy=\"median\")\n",
    "numeric_df = pd.DataFrame(impute.fit_transform(numeric_df), columns= numeric_df.columns)\n",
    "\n",
    "#Taking out the iterative due to the low processing power of my machine\n",
    "#imp = IterativeImputer(max_iter = 10, random_state = 0)\n",
    "#numeric_df = pd.DataFrame(np.round(imp.fit_transform(numeric_df)), columns= numeric_df.columns)"
   ]
  },
  {
   "cell_type": "code",
   "execution_count": 283,
   "id": "61dfbcb6-9e1c-4ea1-845c-b02009b8ef31",
   "metadata": {
    "colab": {
     "base_uri": "https://localhost:8080/"
    },
    "id": "61dfbcb6-9e1c-4ea1-845c-b02009b8ef31",
    "outputId": "2487fd8a-acc0-4f3f-8718-89fd2530bd8d"
   },
   "outputs": [
    {
     "data": {
      "text/plain": [
       "fifa_update                       0\n",
       "overall                           0\n",
       "potential                         0\n",
       "value_eur                         0\n",
       "wage_eur                          0\n",
       "height_cm                         0\n",
       "weight_kg                         0\n",
       "league_id                         0\n",
       "league_level                      0\n",
       "club_contract_valid_until_year    0\n",
       "weak_foot                         0\n",
       "skill_moves                       0\n",
       "international_reputation          0\n",
       "pace                              0\n",
       "shooting                          0\n",
       "passing                           0\n",
       "dribbling                         0\n",
       "defending                         0\n",
       "physic                            0\n",
       "attacking_crossing                0\n",
       "attacking_finishing               0\n",
       "attacking_heading_accuracy        0\n",
       "attacking_short_passing           0\n",
       "attacking_volleys                 0\n",
       "skill_dribbling                   0\n",
       "skill_curve                       0\n",
       "skill_fk_accuracy                 0\n",
       "skill_long_passing                0\n",
       "skill_ball_control                0\n",
       "movement_acceleration             0\n",
       "movement_sprint_speed             0\n",
       "movement_agility                  0\n",
       "movement_reactions                0\n",
       "movement_balance                  0\n",
       "power_shot_power                  0\n",
       "power_jumping                     0\n",
       "power_stamina                     0\n",
       "power_strength                    0\n",
       "power_long_shots                  0\n",
       "mentality_aggression              0\n",
       "mentality_interceptions           0\n",
       "mentality_positioning             0\n",
       "mentality_vision                  0\n",
       "mentality_penalties               0\n",
       "defending_marking_awareness       0\n",
       "defending_standing_tackle         0\n",
       "defending_sliding_tackle          0\n",
       "goalkeeping_diving                0\n",
       "goalkeeping_handling              0\n",
       "goalkeeping_kicking               0\n",
       "goalkeeping_positioning           0\n",
       "goalkeeping_reflexes              0\n",
       "dtype: int64"
      ]
     },
     "execution_count": 283,
     "metadata": {},
     "output_type": "execute_result"
    }
   ],
   "source": [
    "nan_count_columns1 = numeric_df.isna().sum()\n",
    "nan_count_columns1"
   ]
  },
  {
   "cell_type": "markdown",
   "id": "d8d0ec52-662d-4396-bb4a-51c2cd655b43",
   "metadata": {
    "id": "d8d0ec52-662d-4396-bb4a-51c2cd655b43"
   },
   "source": [
    "## Working with the categorical data"
   ]
  },
  {
   "cell_type": "code",
   "execution_count": 284,
   "id": "6ad10968-bbc9-4535-98df-07c95cd53dfb",
   "metadata": {
    "colab": {
     "base_uri": "https://localhost:8080/"
    },
    "id": "6ad10968-bbc9-4535-98df-07c95cd53dfb",
    "outputId": "39160512-e45a-4c5d-ae3d-54d007f5806d"
   },
   "outputs": [
    {
     "data": {
      "text/plain": [
       "preferred_foot    0\n",
       "work_rate         0\n",
       "body_type         0\n",
       "dtype: int64"
      ]
     },
     "execution_count": 284,
     "metadata": {},
     "output_type": "execute_result"
    }
   ],
   "source": [
    "nan_count_columns1 = alpha_df.isna().sum()\n",
    "nan_count_columns1"
   ]
  },
  {
   "cell_type": "markdown",
   "id": "46cd2103-f829-4d23-9612-7b0e390b130c",
   "metadata": {
    "id": "46cd2103-f829-4d23-9612-7b0e390b130c"
   },
   "source": [
    "**Encoding the categoricals**"
   ]
  },
  {
   "cell_type": "code",
   "execution_count": 285,
   "id": "36b4a946-406d-4683-a75e-1a808be6bade",
   "metadata": {
    "colab": {
     "base_uri": "https://localhost:8080/",
     "height": 1000
    },
    "id": "36b4a946-406d-4683-a75e-1a808be6bade",
    "outputId": "0e48eebe-4503-4d49-af2c-145971e040af"
   },
   "outputs": [
    {
     "data": {
      "text/html": [
       "<div>\n",
       "<style scoped>\n",
       "    .dataframe tbody tr th:only-of-type {\n",
       "        vertical-align: middle;\n",
       "    }\n",
       "\n",
       "    .dataframe tbody tr th {\n",
       "        vertical-align: top;\n",
       "    }\n",
       "\n",
       "    .dataframe thead th {\n",
       "        text-align: right;\n",
       "    }\n",
       "</style>\n",
       "<table border=\"1\" class=\"dataframe\">\n",
       "  <thead>\n",
       "    <tr style=\"text-align: right;\">\n",
       "      <th></th>\n",
       "      <th>preferred_foot</th>\n",
       "      <th>work_rate</th>\n",
       "      <th>body_type</th>\n",
       "    </tr>\n",
       "  </thead>\n",
       "  <tbody>\n",
       "    <tr>\n",
       "      <th>0</th>\n",
       "      <td>0</td>\n",
       "      <td>7</td>\n",
       "      <td>3</td>\n",
       "    </tr>\n",
       "    <tr>\n",
       "      <th>1</th>\n",
       "      <td>1</td>\n",
       "      <td>1</td>\n",
       "      <td>5</td>\n",
       "    </tr>\n",
       "    <tr>\n",
       "      <th>2</th>\n",
       "      <td>0</td>\n",
       "      <td>1</td>\n",
       "      <td>4</td>\n",
       "    </tr>\n",
       "    <tr>\n",
       "      <th>3</th>\n",
       "      <td>1</td>\n",
       "      <td>7</td>\n",
       "      <td>5</td>\n",
       "    </tr>\n",
       "    <tr>\n",
       "      <th>4</th>\n",
       "      <td>1</td>\n",
       "      <td>8</td>\n",
       "      <td>5</td>\n",
       "    </tr>\n",
       "  </tbody>\n",
       "</table>\n",
       "</div>"
      ],
      "text/plain": [
       "   preferred_foot  work_rate  body_type\n",
       "0               0          7          3\n",
       "1               1          1          5\n",
       "2               0          1          4\n",
       "3               1          7          5\n",
       "4               1          8          5"
      ]
     },
     "execution_count": 285,
     "metadata": {},
     "output_type": "execute_result"
    }
   ],
   "source": [
    "from sklearn.preprocessing import LabelEncoder\n",
    "label_encoder = LabelEncoder()\n",
    "\n",
    "# Create a copy of the DataFrame to avoid modifying the original data\n",
    "encoded_df = alpha_df.copy()\n",
    "\n",
    "for col in alpha_df.columns:\n",
    "    encoded_df[col] = label_encoder.fit_transform(alpha_df[col])\n",
    "\n",
    "alpha_df=encoded_df\n",
    "alpha_df.head()"
   ]
  },
  {
   "cell_type": "markdown",
   "id": "f61d9c46-ad55-40cd-b8c3-a2415aff2bd8",
   "metadata": {
    "id": "f61d9c46-ad55-40cd-b8c3-a2415aff2bd8"
   },
   "source": [
    "**Combining the dataframes**"
   ]
  },
  {
   "cell_type": "code",
   "execution_count": 23,
   "id": "dfcec61a-00da-49b1-8ef8-51a13a74c5fc",
   "metadata": {
    "id": "dfcec61a-00da-49b1-8ef8-51a13a74c5fc"
   },
   "outputs": [],
   "source": [
    "relevant_data = pd.concat([alpha_df,numeric_df],axis=1)"
   ]
  },
  {
   "cell_type": "code",
   "execution_count": 286,
   "id": "bd65e2d4-d5e0-43db-bebb-90b0f23b94e3",
   "metadata": {
    "colab": {
     "base_uri": "https://localhost:8080/"
    },
    "id": "bd65e2d4-d5e0-43db-bebb-90b0f23b94e3",
    "outputId": "df63030e-d9eb-4af6-9d73-f1c31173f606"
   },
   "outputs": [
    {
     "name": "stdout",
     "output_type": "stream",
     "text": [
      "<class 'pandas.core.frame.DataFrame'>\n",
      "RangeIndex: 161583 entries, 0 to 161582\n",
      "Data columns (total 55 columns):\n",
      " #   Column                          Non-Null Count   Dtype  \n",
      "---  ------                          --------------   -----  \n",
      " 0   preferred_foot                  161583 non-null  int32  \n",
      " 1   work_rate                       161583 non-null  int32  \n",
      " 2   body_type                       161583 non-null  int32  \n",
      " 3   fifa_update                     161583 non-null  float64\n",
      " 4   overall                         161583 non-null  float64\n",
      " 5   potential                       161583 non-null  float64\n",
      " 6   value_eur                       161583 non-null  float64\n",
      " 7   wage_eur                        161583 non-null  float64\n",
      " 8   height_cm                       161583 non-null  float64\n",
      " 9   weight_kg                       161583 non-null  float64\n",
      " 10  league_id                       161583 non-null  float64\n",
      " 11  league_level                    161583 non-null  float64\n",
      " 12  club_contract_valid_until_year  161583 non-null  float64\n",
      " 13  weak_foot                       161583 non-null  float64\n",
      " 14  skill_moves                     161583 non-null  float64\n",
      " 15  international_reputation        161583 non-null  float64\n",
      " 16  pace                            161583 non-null  float64\n",
      " 17  shooting                        161583 non-null  float64\n",
      " 18  passing                         161583 non-null  float64\n",
      " 19  dribbling                       161583 non-null  float64\n",
      " 20  defending                       161583 non-null  float64\n",
      " 21  physic                          161583 non-null  float64\n",
      " 22  attacking_crossing              161583 non-null  float64\n",
      " 23  attacking_finishing             161583 non-null  float64\n",
      " 24  attacking_heading_accuracy      161583 non-null  float64\n",
      " 25  attacking_short_passing         161583 non-null  float64\n",
      " 26  attacking_volleys               161583 non-null  float64\n",
      " 27  skill_dribbling                 161583 non-null  float64\n",
      " 28  skill_curve                     161583 non-null  float64\n",
      " 29  skill_fk_accuracy               161583 non-null  float64\n",
      " 30  skill_long_passing              161583 non-null  float64\n",
      " 31  skill_ball_control              161583 non-null  float64\n",
      " 32  movement_acceleration           161583 non-null  float64\n",
      " 33  movement_sprint_speed           161583 non-null  float64\n",
      " 34  movement_agility                161583 non-null  float64\n",
      " 35  movement_reactions              161583 non-null  float64\n",
      " 36  movement_balance                161583 non-null  float64\n",
      " 37  power_shot_power                161583 non-null  float64\n",
      " 38  power_jumping                   161583 non-null  float64\n",
      " 39  power_stamina                   161583 non-null  float64\n",
      " 40  power_strength                  161583 non-null  float64\n",
      " 41  power_long_shots                161583 non-null  float64\n",
      " 42  mentality_aggression            161583 non-null  float64\n",
      " 43  mentality_interceptions         161583 non-null  float64\n",
      " 44  mentality_positioning           161583 non-null  float64\n",
      " 45  mentality_vision                161583 non-null  float64\n",
      " 46  mentality_penalties             161583 non-null  float64\n",
      " 47  defending_marking_awareness     161583 non-null  float64\n",
      " 48  defending_standing_tackle       161583 non-null  float64\n",
      " 49  defending_sliding_tackle        161583 non-null  float64\n",
      " 50  goalkeeping_diving              161583 non-null  float64\n",
      " 51  goalkeeping_handling            161583 non-null  float64\n",
      " 52  goalkeeping_kicking             161583 non-null  float64\n",
      " 53  goalkeeping_positioning         161583 non-null  float64\n",
      " 54  goalkeeping_reflexes            161583 non-null  float64\n",
      "dtypes: float64(52), int32(3)\n",
      "memory usage: 66.0 MB\n"
     ]
    }
   ],
   "source": [
    "relevant_data.info()"
   ]
  },
  {
   "cell_type": "markdown",
   "id": "78d64a7e-4257-4325-a1e5-e447002dd4da",
   "metadata": {
    "id": "78d64a7e-4257-4325-a1e5-e447002dd4da"
   },
   "source": [
    "## **2. Correlation matrix to select the features and lables**"
   ]
  },
  {
   "cell_type": "code",
   "execution_count": 287,
   "id": "b1ea1c9a-2ce8-475b-aa3e-0c165e9208f8",
   "metadata": {
    "colab": {
     "base_uri": "https://localhost:8080/"
    },
    "id": "b1ea1c9a-2ce8-475b-aa3e-0c165e9208f8",
    "outputId": "83cc88c0-8292-4e96-8c6d-d5449906af7f"
   },
   "outputs": [
    {
     "data": {
      "text/plain": [
       "overall                           1.000000\n",
       "movement_reactions                0.845753\n",
       "potential                         0.695362\n",
       "passing                           0.629868\n",
       "wage_eur                          0.607297\n",
       "value_eur                         0.562677\n",
       "dribbling                         0.561034\n",
       "attacking_short_passing           0.499757\n",
       "mentality_vision                  0.493282\n",
       "international_reputation          0.485234\n",
       "skill_long_passing                0.483808\n",
       "power_shot_power                  0.480297\n",
       "physic                            0.473469\n",
       "skill_ball_control                0.457011\n",
       "shooting                          0.444746\n",
       "skill_curve                       0.415863\n",
       "power_long_shots                  0.409086\n",
       "mentality_aggression              0.398310\n",
       "attacking_crossing                0.396833\n",
       "skill_fk_accuracy                 0.387269\n",
       "attacking_volleys                 0.377048\n",
       "skill_dribbling                   0.369827\n",
       "power_stamina                     0.360025\n",
       "power_strength                    0.350786\n",
       "mentality_positioning             0.350178\n",
       "attacking_heading_accuracy        0.340029\n",
       "mentality_penalties               0.334488\n",
       "skill_moves                       0.330951\n",
       "attacking_finishing               0.326376\n",
       "mentality_interceptions           0.314282\n",
       "defending                         0.293706\n",
       "power_jumping                     0.275578\n",
       "defending_marking_awareness       0.274173\n",
       "movement_agility                  0.263671\n",
       "defending_standing_tackle         0.250624\n",
       "defending_sliding_tackle          0.220398\n",
       "weak_foot                         0.217422\n",
       "movement_sprint_speed             0.208990\n",
       "movement_acceleration             0.194625\n",
       "pace                              0.171704\n",
       "weight_kg                         0.140015\n",
       "body_type                         0.123769\n",
       "movement_balance                  0.099129\n",
       "club_contract_valid_until_year    0.072590\n",
       "height_cm                         0.044415\n",
       "goalkeeping_positioning          -0.004731\n",
       "goalkeeping_handling             -0.010862\n",
       "goalkeeping_reflexes             -0.011783\n",
       "goalkeeping_diving               -0.013603\n",
       "goalkeeping_kicking              -0.015521\n",
       "preferred_foot                   -0.042408\n",
       "league_id                        -0.152734\n",
       "league_level                     -0.222646\n",
       "work_rate                        -0.223711\n",
       "fifa_update                            NaN\n",
       "Name: overall, dtype: float64"
      ]
     },
     "execution_count": 287,
     "metadata": {},
     "output_type": "execute_result"
    }
   ],
   "source": [
    "corr_matrix = relevant_data.corr()\n",
    "corr_matrix['overall'].sort_values(ascending=False)"
   ]
  },
  {
   "cell_type": "markdown",
   "id": "1d8b832b-ebee-43d3-9884-7222a72c4107",
   "metadata": {},
   "source": [
    "## **Confirming the correlation using graphs**"
   ]
  },
  {
   "cell_type": "code",
   "execution_count": 288,
   "id": "587c8125-8d07-4a67-b22d-74dbf7e1ff9e",
   "metadata": {},
   "outputs": [
    {
     "data": {
      "text/plain": [
       "<Axes: xlabel='movement_reactions', ylabel='overall'>"
      ]
     },
     "execution_count": 288,
     "metadata": {},
     "output_type": "execute_result"
    },
    {
     "data": {
      "image/png": "[encoded data removed]",
      "text/plain": [
       "<Figure size 640x480 with 1 Axes>"
      ]
     },
     "metadata": {},
     "output_type": "display_data"
    }
   ],
   "source": [
    "#showing a grapgh of overall against movement reactions\n",
    "sns.scatterplot(x='movement_reactions', y='overall', data=relevant_data)"
   ]
  },
  {
   "cell_type": "markdown",
   "id": "fb4c4956-9777-40d2-80e3-4d708cb32dbe",
   "metadata": {},
   "source": [
    "The plot highlights a direct and strong relationship between a player's movenemt reactions and their overall rating."
   ]
  },
  {
   "cell_type": "code",
   "execution_count": 289,
   "id": "9507c075-28e4-4fa1-a2b3-3d1d72c3f4df",
   "metadata": {},
   "outputs": [
    {
     "data": {
      "text/plain": [
       "<Axes: xlabel='potential', ylabel='overall'>"
      ]
     },
     "execution_count": 289,
     "metadata": {},
     "output_type": "execute_result"
    },
    {
     "data": {
      "image/png": "[encoded data removed]",
      "text/plain": [
       "<Figure size 640x480 with 1 Axes>"
      ]
     },
     "metadata": {},
     "output_type": "display_data"
    }
   ],
   "source": [
    "#showing a grapgh of overall against potential\n",
    "sns.scatterplot(x='potential', y='overall', data=relevant_data)"
   ]
  },
  {
   "cell_type": "markdown",
   "id": "f5cbd28f-b6aa-47d4-8398-7616775745f5",
   "metadata": {},
   "source": [
    "The plot highlights a direct and strong relationship between a player's potential and their overall rating, demonstrating that potential is a significant predictor of a player’s overall performance."
   ]
  },
  {
   "cell_type": "code",
   "execution_count": 290,
   "id": "e0aeb04f-22e6-4a3b-8577-2cb0a7093033",
   "metadata": {},
   "outputs": [
    {
     "data": {
      "text/plain": [
       "<Axes: xlabel='skill_ball_control', ylabel='overall'>"
      ]
     },
     "execution_count": 290,
     "metadata": {},
     "output_type": "execute_result"
    },
    {
     "data": {
      "image/png": "[encoded data removed]",
      "text/plain": [
       "<Figure size 640x480 with 1 Axes>"
      ]
     },
     "metadata": {},
     "output_type": "display_data"
    }
   ],
   "source": [
    "#showing a grapgh of overall against skill_ball_control\n",
    "sns.scatterplot(x='skill_ball_control', y='overall', data=relevant_data)"
   ]
  },
  {
   "cell_type": "markdown",
   "id": "47122171-2437-4bbf-b2ef-6b48efb72d18",
   "metadata": {},
   "source": [
    "There is a visible positive trend; as skill_ball_control increases, the overall rating tends to increase as well.\n",
    "This suggests that players with better ball control generally have higher overall ratings"
   ]
  },
  {
   "cell_type": "markdown",
   "id": "77fa133f-be73-4feb-af13-0dd8eaf5d66e",
   "metadata": {
    "id": "77fa133f-be73-4feb-af13-0dd8eaf5d66e"
   },
   "source": [
    "**Selecting the feature subset that have the strongest correlation**"
   ]
  },
  {
   "cell_type": "code",
   "execution_count": 292,
   "id": "d6a234cd-9266-4313-a82b-94b98f974842",
   "metadata": {
    "id": "d6a234cd-9266-4313-a82b-94b98f974842"
   },
   "outputs": [
    {
     "data": {
      "text/html": [
       "<div>\n",
       "<style scoped>\n",
       "    .dataframe tbody tr th:only-of-type {\n",
       "        vertical-align: middle;\n",
       "    }\n",
       "\n",
       "    .dataframe tbody tr th {\n",
       "        vertical-align: top;\n",
       "    }\n",
       "\n",
       "    .dataframe thead th {\n",
       "        text-align: right;\n",
       "    }\n",
       "</style>\n",
       "<table border=\"1\" class=\"dataframe\">\n",
       "  <thead>\n",
       "    <tr style=\"text-align: right;\">\n",
       "      <th></th>\n",
       "      <th>overall</th>\n",
       "      <th>movement_reactions</th>\n",
       "      <th>potential</th>\n",
       "      <th>wage_eur</th>\n",
       "      <th>power_shot_power</th>\n",
       "      <th>value_eur</th>\n",
       "      <th>passing</th>\n",
       "      <th>mentality_vision</th>\n",
       "      <th>international_reputation</th>\n",
       "      <th>skill_long_passing</th>\n",
       "      <th>physic</th>\n",
       "      <th>skill_ball_control</th>\n",
       "    </tr>\n",
       "  </thead>\n",
       "  <tbody>\n",
       "    <tr>\n",
       "      <th>0</th>\n",
       "      <td>93.0</td>\n",
       "      <td>94.0</td>\n",
       "      <td>95.0</td>\n",
       "      <td>550000.0</td>\n",
       "      <td>80.0</td>\n",
       "      <td>100500000.0</td>\n",
       "      <td>86.0</td>\n",
       "      <td>90.0</td>\n",
       "      <td>5.0</td>\n",
       "      <td>76.0</td>\n",
       "      <td>63.0</td>\n",
       "      <td>96.0</td>\n",
       "    </tr>\n",
       "    <tr>\n",
       "      <th>1</th>\n",
       "      <td>92.0</td>\n",
       "      <td>90.0</td>\n",
       "      <td>92.0</td>\n",
       "      <td>375000.0</td>\n",
       "      <td>94.0</td>\n",
       "      <td>79000000.0</td>\n",
       "      <td>81.0</td>\n",
       "      <td>81.0</td>\n",
       "      <td>5.0</td>\n",
       "      <td>72.0</td>\n",
       "      <td>79.0</td>\n",
       "      <td>92.0</td>\n",
       "    </tr>\n",
       "    <tr>\n",
       "      <th>2</th>\n",
       "      <td>90.0</td>\n",
       "      <td>89.0</td>\n",
       "      <td>90.0</td>\n",
       "      <td>275000.0</td>\n",
       "      <td>86.0</td>\n",
       "      <td>54500000.0</td>\n",
       "      <td>83.0</td>\n",
       "      <td>84.0</td>\n",
       "      <td>5.0</td>\n",
       "      <td>76.0</td>\n",
       "      <td>64.0</td>\n",
       "      <td>90.0</td>\n",
       "    </tr>\n",
       "    <tr>\n",
       "      <th>3</th>\n",
       "      <td>90.0</td>\n",
       "      <td>85.0</td>\n",
       "      <td>90.0</td>\n",
       "      <td>275000.0</td>\n",
       "      <td>93.0</td>\n",
       "      <td>52500000.0</td>\n",
       "      <td>81.0</td>\n",
       "      <td>83.0</td>\n",
       "      <td>5.0</td>\n",
       "      <td>76.0</td>\n",
       "      <td>86.0</td>\n",
       "      <td>90.0</td>\n",
       "    </tr>\n",
       "    <tr>\n",
       "      <th>4</th>\n",
       "      <td>90.0</td>\n",
       "      <td>89.0</td>\n",
       "      <td>90.0</td>\n",
       "      <td>300000.0</td>\n",
       "      <td>42.0</td>\n",
       "      <td>63500000.0</td>\n",
       "      <td>58.0</td>\n",
       "      <td>20.0</td>\n",
       "      <td>5.0</td>\n",
       "      <td>41.0</td>\n",
       "      <td>66.0</td>\n",
       "      <td>31.0</td>\n",
       "    </tr>\n",
       "    <tr>\n",
       "      <th>...</th>\n",
       "      <td>...</td>\n",
       "      <td>...</td>\n",
       "      <td>...</td>\n",
       "      <td>...</td>\n",
       "      <td>...</td>\n",
       "      <td>...</td>\n",
       "      <td>...</td>\n",
       "      <td>...</td>\n",
       "      <td>...</td>\n",
       "      <td>...</td>\n",
       "      <td>...</td>\n",
       "      <td>...</td>\n",
       "    </tr>\n",
       "    <tr>\n",
       "      <th>161578</th>\n",
       "      <td>46.0</td>\n",
       "      <td>39.0</td>\n",
       "      <td>61.0</td>\n",
       "      <td>700.0</td>\n",
       "      <td>64.0</td>\n",
       "      <td>110000.0</td>\n",
       "      <td>40.0</td>\n",
       "      <td>42.0</td>\n",
       "      <td>1.0</td>\n",
       "      <td>33.0</td>\n",
       "      <td>44.0</td>\n",
       "      <td>45.0</td>\n",
       "    </tr>\n",
       "    <tr>\n",
       "      <th>161579</th>\n",
       "      <td>46.0</td>\n",
       "      <td>42.0</td>\n",
       "      <td>58.0</td>\n",
       "      <td>750.0</td>\n",
       "      <td>33.0</td>\n",
       "      <td>110000.0</td>\n",
       "      <td>29.0</td>\n",
       "      <td>31.0</td>\n",
       "      <td>1.0</td>\n",
       "      <td>25.0</td>\n",
       "      <td>57.0</td>\n",
       "      <td>32.0</td>\n",
       "    </tr>\n",
       "    <tr>\n",
       "      <th>161580</th>\n",
       "      <td>46.0</td>\n",
       "      <td>50.0</td>\n",
       "      <td>58.0</td>\n",
       "      <td>500.0</td>\n",
       "      <td>51.0</td>\n",
       "      <td>110000.0</td>\n",
       "      <td>43.0</td>\n",
       "      <td>40.0</td>\n",
       "      <td>1.0</td>\n",
       "      <td>43.0</td>\n",
       "      <td>53.0</td>\n",
       "      <td>35.0</td>\n",
       "    </tr>\n",
       "    <tr>\n",
       "      <th>161581</th>\n",
       "      <td>46.0</td>\n",
       "      <td>45.0</td>\n",
       "      <td>70.0</td>\n",
       "      <td>500.0</td>\n",
       "      <td>42.0</td>\n",
       "      <td>150000.0</td>\n",
       "      <td>36.0</td>\n",
       "      <td>44.0</td>\n",
       "      <td>1.0</td>\n",
       "      <td>26.0</td>\n",
       "      <td>42.0</td>\n",
       "      <td>43.0</td>\n",
       "    </tr>\n",
       "    <tr>\n",
       "      <th>161582</th>\n",
       "      <td>46.0</td>\n",
       "      <td>40.0</td>\n",
       "      <td>63.0</td>\n",
       "      <td>500.0</td>\n",
       "      <td>33.0</td>\n",
       "      <td>110000.0</td>\n",
       "      <td>26.0</td>\n",
       "      <td>20.0</td>\n",
       "      <td>1.0</td>\n",
       "      <td>29.0</td>\n",
       "      <td>57.0</td>\n",
       "      <td>31.0</td>\n",
       "    </tr>\n",
       "  </tbody>\n",
       "</table>\n",
       "<p>161583 rows × 12 columns</p>\n",
       "</div>"
      ],
      "text/plain": [
       "        overall  movement_reactions  potential  wage_eur  power_shot_power  \\\n",
       "0          93.0                94.0       95.0  550000.0              80.0   \n",
       "1          92.0                90.0       92.0  375000.0              94.0   \n",
       "2          90.0                89.0       90.0  275000.0              86.0   \n",
       "3          90.0                85.0       90.0  275000.0              93.0   \n",
       "4          90.0                89.0       90.0  300000.0              42.0   \n",
       "...         ...                 ...        ...       ...               ...   \n",
       "161578     46.0                39.0       61.0     700.0              64.0   \n",
       "161579     46.0                42.0       58.0     750.0              33.0   \n",
       "161580     46.0                50.0       58.0     500.0              51.0   \n",
       "161581     46.0                45.0       70.0     500.0              42.0   \n",
       "161582     46.0                40.0       63.0     500.0              33.0   \n",
       "\n",
       "          value_eur  passing  mentality_vision  international_reputation  \\\n",
       "0       100500000.0     86.0              90.0                       5.0   \n",
       "1        79000000.0     81.0              81.0                       5.0   \n",
       "2        54500000.0     83.0              84.0                       5.0   \n",
       "3        52500000.0     81.0              83.0                       5.0   \n",
       "4        63500000.0     58.0              20.0                       5.0   \n",
       "...             ...      ...               ...                       ...   \n",
       "161578     110000.0     40.0              42.0                       1.0   \n",
       "161579     110000.0     29.0              31.0                       1.0   \n",
       "161580     110000.0     43.0              40.0                       1.0   \n",
       "161581     150000.0     36.0              44.0                       1.0   \n",
       "161582     110000.0     26.0              20.0                       1.0   \n",
       "\n",
       "        skill_long_passing  physic  skill_ball_control  \n",
       "0                     76.0    63.0                96.0  \n",
       "1                     72.0    79.0                92.0  \n",
       "2                     76.0    64.0                90.0  \n",
       "3                     76.0    86.0                90.0  \n",
       "4                     41.0    66.0                31.0  \n",
       "...                    ...     ...                 ...  \n",
       "161578                33.0    44.0                45.0  \n",
       "161579                25.0    57.0                32.0  \n",
       "161580                43.0    53.0                35.0  \n",
       "161581                26.0    42.0                43.0  \n",
       "161582                29.0    57.0                31.0  \n",
       "\n",
       "[161583 rows x 12 columns]"
      ]
     },
     "execution_count": 292,
     "metadata": {},
     "output_type": "execute_result"
    }
   ],
   "source": [
    "main_21 = pd.DataFrame()\n",
    "chosen_columns = ['overall', 'movement_reactions','potential','wage_eur','power_shot_power','value_eur','passing','mentality_vision', \n",
    "                   'international_reputation', 'skill_long_passing', 'physic', 'skill_ball_control' ]\n",
    "\n",
    "for i in chosen_columns:\n",
    "    main_21[i] = relevant_data[i]\n",
    "main_21"
   ]
  },
  {
   "cell_type": "markdown",
   "id": "1a3a393f-1607-4e47-9baf-bb73479ac1ad",
   "metadata": {
    "id": "1a3a393f-1607-4e47-9baf-bb73479ac1ad"
   },
   "source": [
    "**Seperating the data into feature and labels**"
   ]
  },
  {
   "cell_type": "code",
   "execution_count": 293,
   "id": "c97775ba-4cb8-4d70-b7b9-c3a848a1ce33",
   "metadata": {
    "id": "c97775ba-4cb8-4d70-b7b9-c3a848a1ce33"
   },
   "outputs": [],
   "source": [
    "y = main_21['overall']\n",
    "X = main_21.drop('overall', axis = 1)"
   ]
  },
  {
   "cell_type": "markdown",
   "id": "c8640a46-681f-4953-92d5-f10214bce469",
   "metadata": {
    "id": "c8640a46-681f-4953-92d5-f10214bce469"
   },
   "source": [
    "**Scaling the data**"
   ]
  },
  {
   "cell_type": "code",
   "execution_count": 294,
   "id": "7802c5ad-4f22-4b31-81f6-c98d0d02f1fb",
   "metadata": {
    "id": "7802c5ad-4f22-4b31-81f6-c98d0d02f1fb"
   },
   "outputs": [
    {
     "data": {
      "text/plain": [
       "['scaler.pkl']"
      ]
     },
     "execution_count": 294,
     "metadata": {},
     "output_type": "execute_result"
    }
   ],
   "source": [
    "from sklearn.preprocessing import StandardScaler\n",
    "scaler = StandardScaler()\n",
    "X = scaler.fit_transform(X)\n",
    "\n",
    "jb.dump(scaler, 'scaler.pkl')"
   ]
  },
  {
   "cell_type": "markdown",
   "id": "f8e9275b-2c42-4c64-9224-1c6a1a41ab06",
   "metadata": {},
   "source": [
    "## **Method to clean the FIFA 22 data**"
   ]
  },
  {
   "cell_type": "code",
   "execution_count": 296,
   "id": "57fa9e98-1f67-4f0c-9d6f-3214221612a3",
   "metadata": {},
   "outputs": [],
   "source": [
    "#creating the function for my players 22\n",
    "def clean_players_22(df):\n",
    "    for i in df.columns:\n",
    "        if 'url' in i:\n",
    "            df.drop(i,axis=1, inplace = True)\n",
    "        \n",
    "    df.dropna(thresh= 0.3 * len(df), axis=1, inplace=True)\n",
    "    \n",
    "    remove_columns = ['player_positions', 'sofifa_id', 'short_name', 'long_name','club_team_id', 'club_name',\n",
    "    'league_name','age', 'dob','club_contract_valid_until', 'nationality_id', 'nationality_name' , 'real_face','club_position',\n",
    "    'club_jersey_number','club_joined','ls', 'st', 'rs',\n",
    "    'lw', 'lf', 'cf', 'rf', 'rw', 'lam', 'cam', 'ram', 'lm', 'lcm', 'cm',\n",
    "    'rcm', 'rm', 'lwb', 'ldm', 'cdm', 'rdm', 'rwb', 'lb', 'lcb', 'cb',\n",
    "    'rcb', 'rb', 'gk','player_traits']\n",
    "    \n",
    "    df = df.drop(columns=remove_columns)\n",
    "    \n",
    "    alpha_df2 = df.select_dtypes(exclude='number')\n",
    "    numeric_df2 = df.select_dtypes(include='number')\n",
    "    \n",
    "    numeric_df2 = pd.DataFrame(impute.fit_transform(numeric_df2), columns= numeric_df2.columns)\n",
    "    \n",
    "    from sklearn.preprocessing import LabelEncoder\n",
    "    label_encoder = LabelEncoder()\n",
    "    \n",
    "    # Create a copy of the DataFrame to avoid modifying the original data\n",
    "    encoded_df2 = alpha_df2.copy()\n",
    "    \n",
    "    for col in alpha_df2.columns:\n",
    "        encoded_df2[col] = label_encoder.fit_transform(alpha_df2[col])\n",
    "    \n",
    "    alpha_df2=encoded_df2\n",
    "    \n",
    "    relevant_data2 = pd.concat([alpha_df2,numeric_df2],axis=1)\n",
    "    main_22 = pd.DataFrame()\n",
    "    chosen_columns2 = ['overall', 'movement_reactions','potential','wage_eur','power_shot_power','value_eur','passing','mentality_vision', \n",
    "    'international_reputation', 'skill_long_passing', 'physic', 'skill_ball_control']\n",
    "    \n",
    "    for i in chosen_columns2:\n",
    "        main_22[i] = relevant_data2[i]\n",
    "        \n",
    "    y_test2 = main_22['overall']\n",
    "    X_test2 = main_22.drop('overall', axis = 1)\n",
    "    from sklearn.preprocessing import StandardScaler\n",
    "    scaler = StandardScaler()\n",
    "    X_test2 = scaler.fit_transform(X_test2)\n",
    "    return X_test2, y_test2"
   ]
  },
  {
   "cell_type": "markdown",
   "id": "e74e2bda-8c37-4bb6-8f5e-f94dae1509b6",
   "metadata": {
    "id": "e74e2bda-8c37-4bb6-8f5e-f94dae1509b6"
   },
   "source": [
    "## **3. Training the models**"
   ]
  },
  {
   "cell_type": "markdown",
   "id": "848ef17f-ae86-4ad1-8677-812244c5da12",
   "metadata": {
    "id": "848ef17f-ae86-4ad1-8677-812244c5da12"
   },
   "source": [
    "**Splitting the data into training and testing**"
   ]
  },
  {
   "cell_type": "code",
   "execution_count": 297,
   "id": "50a2f2e8-b1ae-4ce5-b456-f938ecf57e50",
   "metadata": {
    "id": "50a2f2e8-b1ae-4ce5-b456-f938ecf57e50"
   },
   "outputs": [],
   "source": [
    "Xtrain , Xtest, Ytrain, Ytest = train_test_split(X, y, test_size = 0.2, random_state = 42)"
   ]
  },
  {
   "cell_type": "markdown",
   "id": "ea7566eb-4a6b-4c69-80ff-ae25ef2511dd",
   "metadata": {
    "id": "ea7566eb-4a6b-4c69-80ff-ae25ef2511dd"
   },
   "source": [
    "**Initializing the models**"
   ]
  },
  {
   "cell_type": "code",
   "execution_count": 298,
   "id": "5415de5d-ff3f-46c0-a85a-327bd39d3f9a",
   "metadata": {
    "id": "5415de5d-ff3f-46c0-a85a-327bd39d3f9a"
   },
   "outputs": [],
   "source": [
    "linear_model = LinearRegression()\n",
    "xgb_model = XGBRegressor(n_estimators=600, learning_rate=0.1, max_depth=10)\n",
    "dtree = DecisionTreeRegressor(max_depth=100, min_samples_split=40, min_samples_leaf=40)\n",
    "random_forest_model = RandomForestRegressor(n_estimators=500, max_depth=40, min_samples_split=10, min_samples_leaf=40)\n",
    "gradient_boosting_model = GradientBoostingRegressor(n_estimators=500, learning_rate=0.1, max_depth=50)\n",
    "AdaBoost = AdaBoostRegressor(n_estimators=500, learning_rate=0.1)"
   ]
  },
  {
   "cell_type": "code",
   "execution_count": 346,
   "id": "BEd1k5SwwFPX",
   "metadata": {
    "id": "BEd1k5SwwFPX"
   },
   "outputs": [],
   "source": [
    "def train_model(model, X, Y, cv=2):\n",
    "    # Perform cross-validation\n",
    "    y_pred = cross_val_predict(model, X, Y, cv=cv)\n",
    "    \n",
    "    # Fit the model on the whole dataset\n",
    "    model.fit(X, Y)\n",
    "    \n",
    "    # Calculate and print evaluation metrics\n",
    "    print(f\"Model: {type(model).__name__}\")\n",
    "    print(f\"Mean Absolute Error: {mean_absolute_error(Y, y_pred)}\")\n",
    "    print(f\"Mean Squared Error: {mean_squared_error(Y, y_pred)}\")\n",
    "    print(f\"Root Mean Squared Error: {np.sqrt(mean_squared_error(Y, y_pred))}\")\n",
    "    print(f\"R^2 Score: {r2_score(Y, y_pred)}\")\n",
    "    print()"
   ]
  },
  {
   "cell_type": "markdown",
   "id": "5edcded7-64ac-45e7-8304-2ef7cc83734c",
   "metadata": {},
   "source": [
    "**First training of the models with cross validation**"
   ]
  },
  {
   "cell_type": "code",
   "execution_count": 348,
   "id": "269b6e5e-3d31-4944-8b20-2186fe364070",
   "metadata": {
    "colab": {
     "base_uri": "https://localhost:8080/"
    },
    "id": "269b6e5e-3d31-4944-8b20-2186fe364070",
    "outputId": "20e2edba-0441-4936-fb3a-a61fecd8fc1d"
   },
   "outputs": [
    {
     "name": "stdout",
     "output_type": "stream",
     "text": [
      "Model: LinearRegression\n",
      "Mean Absolute Error: 2.0992716891835554\n",
      "Mean Squared Error: 7.308595021240206\n",
      "Root Mean Squared Error: 2.7034413293504644\n",
      "R^2 Score: 0.8525408908501705\n",
      "\n"
     ]
    }
   ],
   "source": [
    "train_model(linear_model, Xtest, Ytest)"
   ]
  },
  {
   "cell_type": "code",
   "execution_count": 349,
   "id": "4aD50dEmwTm7",
   "metadata": {
    "colab": {
     "base_uri": "https://localhost:8080/"
    },
    "id": "4aD50dEmwTm7",
    "outputId": "67182dce-6c39-4573-debf-afcd537c27f1"
   },
   "outputs": [
    {
     "name": "stdout",
     "output_type": "stream",
     "text": [
      "Model: XGBRegressor\n",
      "Mean Absolute Error: 1.0407347752470506\n",
      "Mean Squared Error: 2.125853638620768\n",
      "Root Mean Squared Error: 1.4580307399436983\n",
      "R^2 Score: 0.9571085163669737\n",
      "\n"
     ]
    }
   ],
   "source": [
    "train_model(xgb_model, Xtest, Ytest)"
   ]
  },
  {
   "cell_type": "code",
   "execution_count": 350,
   "id": "j0aifXztwbXR",
   "metadata": {
    "colab": {
     "base_uri": "https://localhost:8080/"
    },
    "id": "j0aifXztwbXR",
    "outputId": "554adce7-b37a-452b-f1bf-e491421a9ce0"
   },
   "outputs": [
    {
     "name": "stdout",
     "output_type": "stream",
     "text": [
      "Model: DecisionTreeRegressor\n",
      "Mean Absolute Error: 1.4066356737964503\n",
      "Mean Squared Error: 3.6440031148254532\n",
      "Root Mean Squared Error: 1.9089272156961494\n",
      "R^2 Score: 0.9264781464166852\n",
      "\n"
     ]
    }
   ],
   "source": [
    "train_model(dtree, Xtest, Ytest)"
   ]
  },
  {
   "cell_type": "code",
   "execution_count": 351,
   "id": "sN5XMlzewiXG",
   "metadata": {
    "colab": {
     "base_uri": "https://localhost:8080/"
    },
    "id": "sN5XMlzewiXG",
    "outputId": "8c9141fd-422b-48f4-dbdb-63fb5ecba9bd"
   },
   "outputs": [
    {
     "name": "stdout",
     "output_type": "stream",
     "text": [
      "Model: RandomForestRegressor\n",
      "Mean Absolute Error: 1.0527081117596617\n",
      "Mean Squared Error: 2.2461655339541613\n",
      "Root Mean Squared Error: 1.4987212996265054\n",
      "R^2 Score: 0.9546810888170232\n",
      "\n"
     ]
    }
   ],
   "source": [
    "train_model(random_forest_model, Xtest, Ytest)"
   ]
  },
  {
   "cell_type": "code",
   "execution_count": 352,
   "id": "62djcxhXwoFR",
   "metadata": {
    "id": "62djcxhXwoFR"
   },
   "outputs": [],
   "source": [
    "#train_model(gradient_boosting_model)"
   ]
  },
  {
   "cell_type": "code",
   "execution_count": 353,
   "id": "AY4DZbmkBS-Q",
   "metadata": {
    "colab": {
     "base_uri": "https://localhost:8080/"
    },
    "id": "AY4DZbmkBS-Q",
    "outputId": "150475be-cc0e-4691-ba18-ce073c71fc64"
   },
   "outputs": [
    {
     "name": "stdout",
     "output_type": "stream",
     "text": [
      "Model: AdaBoostRegressor\n",
      "Mean Absolute Error: 1.7262170597042144\n",
      "Mean Squared Error: 4.843878704219307\n",
      "Root Mean Squared Error: 2.200881347146935\n",
      "R^2 Score: 0.9022693094256571\n",
      "\n"
     ]
    }
   ],
   "source": [
    "train_model(AdaBoost, Xtest, Ytest)"
   ]
  },
  {
   "cell_type": "markdown",
   "id": "ggFv3lgRPEwz",
   "metadata": {
    "id": "ggFv3lgRPEwz"
   },
   "source": [
    "## **Creating an Ensemble model using the best four models**"
   ]
  },
  {
   "cell_type": "code",
   "execution_count": 306,
   "id": "qU3DnVk2PEWV",
   "metadata": {
    "id": "qU3DnVk2PEWV"
   },
   "outputs": [],
   "source": [
    "# Creating the ensemble model with my best four models\n",
    "ensemble_model = VotingRegressor(\n",
    "    estimators=[\n",
    "        ('xgb', xgb_model),\n",
    "        ('dt', dtree),\n",
    "        ('rf', random_forest_model),\n",
    "        ('ada', AdaBoost)\n",
    "    ]\n",
    ")"
   ]
  },
  {
   "cell_type": "code",
   "execution_count": 308,
   "id": "yhXCOKFMUh-m",
   "metadata": {
    "colab": {
     "base_uri": "https://localhost:8080/"
    },
    "id": "yhXCOKFMUh-m",
    "outputId": "61d3dcf1-565f-4768-8b04-b8bff5bb6aec"
   },
   "outputs": [
    {
     "name": "stdout",
     "output_type": "stream",
     "text": [
      "Mean Absolute Error: 1.111112170751246\n",
      "Mean Squared Error: 2.223848257500501\n",
      "Root Mean Squared Error: 1.4912572740813375\n",
      "R^2 Score: 0.950155478151998\n",
      "\n"
     ]
    }
   ],
   "source": [
    "# Train the ensemble model\n",
    "ensemble_model.fit(Xtrain, Ytrain)\n",
    "\n",
    "# Evaluate the ensemble on the test data\n",
    "y_pred_ensemble = ensemble_model.predict(Xtest)\n",
    "print(f\"Mean Absolute Error: {mean_absolute_error(y_pred_ensemble, Ytest)}\")\n",
    "print(f\"Mean Squared Error: {mean_squared_error(y_pred_ensemble, Ytest)}\")\n",
    "print(f\"Root Mean Squared Error: {np.sqrt(mean_squared_error(y_pred_ensemble, Ytest))}\")\n",
    "print(f\"R^2 Score: {r2_score(y_pred_ensemble, Ytest)}\")\n",
    "print()"
   ]
  },
  {
   "cell_type": "markdown",
   "id": "GaeFof3Wb_kd",
   "metadata": {
    "id": "GaeFof3Wb_kd"
   },
   "source": [
    "## **4. Fine Tuning the components of the ensemble model**"
   ]
  },
  {
   "cell_type": "markdown",
   "id": "27ec8c09-4e51-48f5-82d0-a65d9679eedc",
   "metadata": {},
   "source": [
    "**Performing a grid search with cross validation for XGBoost**"
   ]
  },
  {
   "cell_type": "code",
   "execution_count": 319,
   "id": "S8dwrM06_6if",
   "metadata": {
    "id": "S8dwrM06_6if"
   },
   "outputs": [],
   "source": [
    "# XGBoost parameters\n",
    "param_grid_xgb = {\n",
    "    'n_estimators': [100, 300, 600],\n",
    "    'learning_rate': [0.01, 0.1],\n",
    "    'max_depth': [5, 10],\n",
    "}"
   ]
  },
  {
   "cell_type": "code",
   "execution_count": 320,
   "id": "4lkLlcXYE7_o",
   "metadata": {
    "colab": {
     "base_uri": "https://localhost:8080/"
    },
    "id": "4lkLlcXYE7_o",
    "outputId": "c62c7973-c0a1-4e25-a1a7-4f1788af01f9"
   },
   "outputs": [
    {
     "name": "stdout",
     "output_type": "stream",
     "text": [
      "Fitting 2 folds for each of 12 candidates, totalling 24 fits\n",
      "Best parameters for XGBoost: {'learning_rate': 0.1, 'max_depth': 10, 'n_estimators': 600}\n"
     ]
    }
   ],
   "source": [
    "# Create and fit the grid search\n",
    "grid_search_xgb = GridSearchCV(estimator=xgb_model, param_grid=param_grid_xgb, cv=2, n_jobs=-1, verbose=2, scoring='neg_mean_squared_error')\n",
    "grid_search_xgb.fit(Xtrain, Ytrain)\n",
    "\n",
    "# Best parameters\n",
    "best_params_xgb = grid_search_xgb.best_params_\n",
    "\n",
    "print(f\"Best parameters for XGBoost: {best_params_xgb}\")"
   ]
  },
  {
   "cell_type": "code",
   "execution_count": 321,
   "id": "hdbdj4amLAok",
   "metadata": {
    "colab": {
     "base_uri": "https://localhost:8080/"
    },
    "id": "hdbdj4amLAok",
    "outputId": "b80a8524-4e0e-4e23-9a85-3dba90638581"
   },
   "outputs": [
    {
     "name": "stdout",
     "output_type": "stream",
     "text": [
      "Mean Absolute Error: 0.8624560658351935\n",
      "Mean Squared Error: 1.5023150629238666\n",
      "Root Mean Squared Error: 1.225689627484816\n",
      "R^2 Score: 0.9688541733929595\n",
      "\n"
     ]
    }
   ],
   "source": [
    "best_xgb = grid_search_xgb.best_estimator_\n",
    "y_pred_xgb = best_xgb.predict(Xtest)\n",
    "print(f\"Mean Absolute Error: {mean_absolute_error(y_pred_xgb, Ytest)}\")\n",
    "print(f\"Mean Squared Error: {mean_squared_error(y_pred_xgb, Ytest)}\")\n",
    "print(f\"Root Mean Squared Error: {np.sqrt(mean_squared_error(y_pred_xgb, Ytest))}\")\n",
    "print(f\"R^2 Score: {r2_score(y_pred_xgb, Ytest)}\")\n",
    "print()"
   ]
  },
  {
   "cell_type": "markdown",
   "id": "a292a0ab-8a95-4215-bc25-41c2888b6bcb",
   "metadata": {},
   "source": [
    "**Performing a grid search with cross validation for decsion tree model**"
   ]
  },
  {
   "cell_type": "code",
   "execution_count": 314,
   "id": "YvF7sAdUEWnr",
   "metadata": {
    "id": "YvF7sAdUEWnr"
   },
   "outputs": [],
   "source": [
    "# Decision Tree parameter\n",
    "param_grid_dtree = {\n",
    "    'max_depth': [200, 200],\n",
    "    'min_samples_split': [20, 40],\n",
    "    'min_samples_leaf': [20, 40]\n",
    "}"
   ]
  },
  {
   "cell_type": "code",
   "execution_count": 315,
   "id": "tPHgzotlFGTP",
   "metadata": {
    "colab": {
     "base_uri": "https://localhost:8080/"
    },
    "id": "tPHgzotlFGTP",
    "outputId": "1ae4a672-9e06-40a2-8a1f-d062ab46a9e5"
   },
   "outputs": [
    {
     "name": "stdout",
     "output_type": "stream",
     "text": [
      "Fitting 2 folds for each of 8 candidates, totalling 16 fits\n",
      "Best parameters for Decision Tree: {'max_depth': 200, 'min_samples_leaf': 20, 'min_samples_split': 20}\n"
     ]
    }
   ],
   "source": [
    "# Create and fit the grid search\n",
    "grid_search_dtree = GridSearchCV(estimator=dtree, param_grid=param_grid_dtree, cv=2, n_jobs=-1, verbose=2, scoring='neg_mean_squared_error')\n",
    "grid_search_dtree.fit(Xtrain, Ytrain)\n",
    "\n",
    "# Best parameters\n",
    "best_params_dtree = grid_search_dtree.best_params_\n",
    "print(f\"Best parameters for Decision Tree: {best_params_dtree}\")\n",
    "\n"
   ]
  },
  {
   "cell_type": "code",
   "execution_count": 316,
   "id": "akYPEuITLyWZ",
   "metadata": {
    "colab": {
     "base_uri": "https://localhost:8080/"
    },
    "id": "akYPEuITLyWZ",
    "outputId": "0188aeda-a9d0-45ff-bb63-81d9cdc1879f"
   },
   "outputs": [
    {
     "name": "stdout",
     "output_type": "stream",
     "text": [
      "Mean Absolute Error: 1.1146394213068143\n",
      "Mean Squared Error: 2.6402158776828437\n",
      "Root Mean Squared Error: 1.6248741113338114\n",
      "R^2 Score: 0.9448078422481356\n",
      "\n"
     ]
    }
   ],
   "source": [
    "best_dtree = grid_search_dtree.best_estimator_\n",
    "y_pred_dtree = best_dtree.predict(Xtest)\n",
    "print(f\"Mean Absolute Error: {mean_absolute_error(y_pred_dtree, Ytest)}\")\n",
    "print(f\"Mean Squared Error: {mean_squared_error(y_pred_dtree, Ytest)}\")\n",
    "print(f\"Root Mean Squared Error: {np.sqrt(mean_squared_error(y_pred_dtree, Ytest))}\")\n",
    "print(f\"R^2 Score: {r2_score(y_pred_dtree, Ytest)}\")\n",
    "print()"
   ]
  },
  {
   "cell_type": "markdown",
   "id": "819f8dfe-3809-4f6c-8c03-94ce7e4c9f80",
   "metadata": {},
   "source": [
    "**Performing a grid search with cross validation for the Random Forest Model**"
   ]
  },
  {
   "cell_type": "code",
   "execution_count": 317,
   "id": "elT_4_a2EfhQ",
   "metadata": {
    "id": "elT_4_a2EfhQ"
   },
   "outputs": [],
   "source": [
    "# Random Forest parameters\n",
    "param_grid_rf = {\n",
    "    'n_estimators': [500, 400],\n",
    "    'max_depth': [20, 30],\n",
    "    'min_samples_split': [ 5, 10],\n",
    "    'min_samples_leaf': [20, 40]\n",
    "}"
   ]
  },
  {
   "cell_type": "code",
   "execution_count": 322,
   "id": "OSUQcCiUE9ac",
   "metadata": {
    "colab": {
     "base_uri": "https://localhost:8080/"
    },
    "id": "OSUQcCiUE9ac",
    "outputId": "a6ad97a7-2b22-4593-e989-b56798457d3a"
   },
   "outputs": [
    {
     "name": "stdout",
     "output_type": "stream",
     "text": [
      "Fitting 2 folds for each of 16 candidates, totalling 32 fits\n",
      "Best parameters for Random Forest: {'max_depth': 30, 'min_samples_leaf': 20, 'min_samples_split': 10, 'n_estimators': 500}\n"
     ]
    }
   ],
   "source": [
    "# Create and fit the grid search\n",
    "grid_search_rf = GridSearchCV(estimator=random_forest_model,\n",
    "                              param_grid=param_grid_rf,\n",
    "                              cv= 2,\n",
    "                              n_jobs=-1,\n",
    "                              verbose=2,\n",
    "                              scoring='neg_mean_squared_error')\n",
    "grid_search_rf.fit(Xtrain, Ytrain)\n",
    "\n",
    "# Best parameters\n",
    "best_params_rf = grid_search_rf.best_params_\n",
    "print(f\"Best parameters for Random Forest: {best_params_rf}\")"
   ]
  },
  {
   "cell_type": "code",
   "execution_count": 323,
   "id": "NixliKo4P7up",
   "metadata": {
    "id": "NixliKo4P7up"
   },
   "outputs": [
    {
     "name": "stdout",
     "output_type": "stream",
     "text": [
      "Mean Absolute Error: 1.0130051828044473\n",
      "Mean Squared Error: 2.121744073557204\n",
      "Root Mean Squared Error: 1.4566207720464528\n",
      "R^2 Score: 0.9549157751267787\n",
      "\n"
     ]
    }
   ],
   "source": [
    "best_rf = grid_search_rf.best_estimator_\n",
    "y_pred_rf = best_rf.predict(Xtest)\n",
    "print(f\"Mean Absolute Error: {mean_absolute_error(y_pred_rf, Ytest)}\")\n",
    "print(f\"Mean Squared Error: {mean_squared_error(y_pred_rf, Ytest)}\")\n",
    "print(f\"Root Mean Squared Error: {np.sqrt(mean_squared_error(y_pred_rf, Ytest))}\")\n",
    "print(f\"R^2 Score: {r2_score(y_pred_rf, Ytest)}\")\n",
    "print()"
   ]
  },
  {
   "cell_type": "markdown",
   "id": "db518672-73e1-4c14-a301-22dd78e79436",
   "metadata": {},
   "source": [
    "**Performing a grid search with cross validation for the ADA Boost regression Model**"
   ]
  },
  {
   "cell_type": "code",
   "execution_count": 324,
   "id": "XPUzudUMEgjT",
   "metadata": {
    "id": "XPUzudUMEgjT"
   },
   "outputs": [],
   "source": [
    "# AdaBoost parameters\n",
    "param_grid_ada = {\n",
    "    'n_estimators': [500, 400],\n",
    "    'learning_rate': [0.01, 0.1, 1.0],\n",
    "}"
   ]
  },
  {
   "cell_type": "code",
   "execution_count": 325,
   "id": "WU41RKefEkyg",
   "metadata": {
    "id": "WU41RKefEkyg"
   },
   "outputs": [
    {
     "name": "stdout",
     "output_type": "stream",
     "text": [
      "Fitting 2 folds for each of 6 candidates, totalling 12 fits\n",
      "Best parameters for AdaBoost: {'learning_rate': 0.1, 'n_estimators': 400}\n"
     ]
    }
   ],
   "source": [
    "# Create and fit the grid search\n",
    "grid_search_ada = GridSearchCV(estimator=AdaBoost, param_grid=param_grid_ada, cv=2, n_jobs=-1, verbose=2, scoring='neg_mean_squared_error')\n",
    "grid_search_ada.fit(Xtrain, Ytrain)\n",
    "\n",
    "# Best parameters\n",
    "best_params_ada = grid_search_ada.best_params_\n",
    "print(f\"Best parameters for AdaBoost: {best_params_ada}\")"
   ]
  },
  {
   "cell_type": "code",
   "execution_count": 326,
   "id": "Wm1-ZsODc4_1",
   "metadata": {
    "id": "Wm1-ZsODc4_1"
   },
   "outputs": [
    {
     "name": "stdout",
     "output_type": "stream",
     "text": [
      "Mean Absolute Error: 1.905257307380381\n",
      "Mean Squared Error: 5.625632253557937\n",
      "Root Mean Squared Error: 2.3718415321344586\n",
      "R^2 Score: 0.855589418090656\n",
      "\n"
     ]
    }
   ],
   "source": [
    "best_ada = grid_search_ada.best_estimator_\n",
    "y_pred_ada = best_ada.predict(Xtest)\n",
    "print(f\"Mean Absolute Error: {mean_absolute_error(y_pred_ada, Ytest)}\")\n",
    "print(f\"Mean Squared Error: {mean_squared_error(y_pred_ada, Ytest)}\")\n",
    "print(f\"Root Mean Squared Error: {np.sqrt(mean_squared_error(y_pred_ada, Ytest))}\")\n",
    "print(f\"R^2 Score: {r2_score(y_pred_ada, Ytest)}\")\n",
    "print()"
   ]
  },
  {
   "cell_type": "markdown",
   "id": "92cbd4ed-c348-47d8-a428-3664fa6e23f2",
   "metadata": {},
   "source": [
    "**Combining all the best models from the grid search into an ensemble model using Voting Regressor**"
   ]
  },
  {
   "cell_type": "code",
   "execution_count": 327,
   "id": "7RAe2UlsiTV3",
   "metadata": {
    "id": "7RAe2UlsiTV3"
   },
   "outputs": [],
   "source": [
    "\n",
    "# Creating the ensemble model\n",
    "ensemble_model2 = VotingRegressor(\n",
    "    estimators=[\n",
    "        ('best_xgb', best_xgb),\n",
    "        ('best_dtree', best_dtree),\n",
    "        ('best_rf', best_rf),\n",
    "        ('best_ada', best_ada )\n",
    "    ]\n",
    ")\n"
   ]
  },
  {
   "cell_type": "code",
   "execution_count": 328,
   "id": "2NVeeHVnixLd",
   "metadata": {
    "id": "2NVeeHVnixLd"
   },
   "outputs": [
    {
     "name": "stdout",
     "output_type": "stream",
     "text": [
      "Mean Absolute Error: 1.0754991303955281\n",
      "Mean Squared Error: 2.1140291471540023\n",
      "Root Mean Squared Error: 1.453970132827357\n",
      "R^2 Score: 0.9527291815999988\n",
      "\n"
     ]
    }
   ],
   "source": [
    "# Train the ensemble model\n",
    "ensemble_model2.fit(Xtrain, Ytrain)\n",
    "\n",
    "# Evaluate the ensemble on the test data\n",
    "y_pred_ensemble2 = ensemble_model2.predict(Xtest)\n",
    "print(f\"Mean Absolute Error: {mean_absolute_error(y_pred_ensemble2, Ytest)}\")\n",
    "print(f\"Mean Squared Error: {mean_squared_error(y_pred_ensemble2, Ytest)}\")\n",
    "print(f\"Root Mean Squared Error: {np.sqrt(mean_squared_error(y_pred_ensemble2, Ytest))}\")\n",
    "print(f\"R^2 Score: {r2_score(y_pred_ensemble2, Ytest)}\")\n",
    "print()"
   ]
  },
  {
   "cell_type": "markdown",
   "id": "03136122-a651-44c1-867e-0c10b58492de",
   "metadata": {},
   "source": [
    "**Improving my previous random forest model and combining it with the voting regressor**"
   ]
  },
  {
   "cell_type": "code",
   "execution_count": 329,
   "id": "pf7AksJihaHG",
   "metadata": {
    "id": "pf7AksJihaHG"
   },
   "outputs": [
    {
     "name": "stdout",
     "output_type": "stream",
     "text": [
      "Mean Absolute Error: 0.8945476054698165\n",
      "Mean Squared Error: 1.7465406193807522\n",
      "Root Mean Squared Error: 1.3215674857459048\n",
      "R^2 Score: 0.9633287900329401\n",
      "\n"
     ]
    }
   ],
   "source": [
    "# Manually adjust hyperparameters for Random Forest and evaluating it\n",
    "random_forest_model.set_params(n_estimators=400, max_depth=40, min_samples_split=2, min_samples_leaf=2)\n",
    "random_forest_model.fit(Xtrain, Ytrain)\n",
    "\n",
    "\n",
    "y_pred_ensemble3 = random_forest_model.predict(Xtest)\n",
    "print(f\"Mean Absolute Error: {mean_absolute_error(y_pred_ensemble3, Ytest)}\")\n",
    "print(f\"Mean Squared Error: {mean_squared_error(y_pred_ensemble3, Ytest)}\")\n",
    "print(f\"Root Mean Squared Error: {np.sqrt(mean_squared_error(y_pred_ensemble3, Ytest))}\")\n",
    "print(f\"R^2 Score: {r2_score(y_pred_ensemble3, Ytest)}\")\n",
    "print()\n"
   ]
  },
  {
   "cell_type": "code",
   "execution_count": 330,
   "id": "b1295ef3-8c5c-41c6-a463-84bf3f0edffd",
   "metadata": {
    "id": "m6nnBuJllqhB"
   },
   "outputs": [
    {
     "name": "stdout",
     "output_type": "stream",
     "text": [
      "Mean Absolute Error: 0.9220777413955714\n",
      "Mean Squared Error: 1.7862797616069963\n",
      "Root Mean Squared Error: 1.3365177745196644\n",
      "R^2 Score: 0.9623727792785662\n",
      "\n"
     ]
    }
   ],
   "source": [
    "# Creating the ensemble model\n",
    "ensemble_model4 = VotingRegressor(\n",
    "    estimators=[\n",
    "        ('best_xgb', best_xgb),\n",
    "        ('best_dtree', best_dtree),\n",
    "        ('best_rf', best_rf),\n",
    "        ('rf', random_forest_model)\n",
    "    ]\n",
    ")\n",
    "\n",
    "ensemble_model4.fit(Xtrain, Ytrain)\n",
    "\n",
    "# Evaluate the ensemble on the test data\n",
    "y_pred_ensemble4 = ensemble_model4.predict(Xtest)\n",
    "print(f\"Mean Absolute Error: {mean_absolute_error(y_pred_ensemble4, Ytest)}\")\n",
    "print(f\"Mean Squared Error: {mean_squared_error(y_pred_ensemble4, Ytest)}\")\n",
    "print(f\"Root Mean Squared Error: {np.sqrt(mean_squared_error(y_pred_ensemble4, Ytest))}\")\n",
    "print(f\"R^2 Score: {r2_score(y_pred_ensemble4, Ytest)}\")\n",
    "print()"
   ]
  },
  {
   "cell_type": "markdown",
   "id": "f7cec17c-e7fa-4f7c-a18c-25c444f7ce78",
   "metadata": {},
   "source": [
    "**Improving my previous Gradient Booost model and combining it with the voting regressor**"
   ]
  },
  {
   "cell_type": "code",
   "execution_count": 331,
   "id": "3uudbinDheC2",
   "metadata": {
    "id": "3uudbinDheC2"
   },
   "outputs": [
    {
     "name": "stdout",
     "output_type": "stream",
     "text": [
      "Mean Absolute Error: 0.9090756640851231\n",
      "Mean Squared Error: 1.6446501219059328\n",
      "Root Mean Squared Error: 1.282439129902832\n",
      "R^2 Score: 0.9656507594702601\n",
      "\n"
     ]
    }
   ],
   "source": [
    "# Manually adjust hyperparameters for Gradient Boosting and evaluate\n",
    "gradient_boosting_model.set_params(n_estimators=400, learning_rate=0.02, max_depth=10)\n",
    "gradient_boosting_model.fit(Xtrain, Ytrain)\n",
    "\n",
    "\n",
    "y_pred_ensemble3 = gradient_boosting_model.predict(Xtest)\n",
    "print(f\"Mean Absolute Error: {mean_absolute_error(y_pred_ensemble3, Ytest)}\")\n",
    "print(f\"Mean Squared Error: {mean_squared_error(y_pred_ensemble3, Ytest)}\")\n",
    "print(f\"Root Mean Squared Error: {np.sqrt(mean_squared_error(y_pred_ensemble3, Ytest))}\")\n",
    "print(f\"R^2 Score: {r2_score(y_pred_ensemble3, Ytest)}\")\n",
    "print()\n"
   ]
  },
  {
   "cell_type": "code",
   "execution_count": 332,
   "id": "Z6xKUYMyuPHi",
   "metadata": {
    "id": "Z6xKUYMyuPHi"
   },
   "outputs": [
    {
     "name": "stdout",
     "output_type": "stream",
     "text": [
      "Mean Absolute Error: 0.9101635339327115\n",
      "Mean Squared Error: 1.7265354650066018\n",
      "Root Mean Squared Error: 1.3139769651735154\n",
      "R^2 Score: 0.9636658078438889\n",
      "\n"
     ]
    }
   ],
   "source": [
    "# Creating the ensemble model\n",
    "ensemble_model5 = VotingRegressor(\n",
    "    estimators=[\n",
    "        ('best_xgb', best_xgb),\n",
    "        ('best_dtree', best_dtree),\n",
    "        ('best_rf', best_rf),\n",
    "        ('rf', random_forest_model),\n",
    "        ('gb', gradient_boosting_model)\n",
    "    ]\n",
    ")\n",
    "\n",
    "ensemble_model5.fit(Xtrain, Ytrain)\n",
    "\n",
    "# Evaluate the ensemble on the test data\n",
    "y_pred_ensemble5 = ensemble_model5.predict(Xtest)\n",
    "print(f\"Mean Absolute Error: {mean_absolute_error(y_pred_ensemble5, Ytest)}\")\n",
    "print(f\"Mean Squared Error: {mean_squared_error(y_pred_ensemble5, Ytest)}\")\n",
    "print(f\"Root Mean Squared Error: {np.sqrt(mean_squared_error(y_pred_ensemble5, Ytest))}\")\n",
    "print(f\"R^2 Score: {r2_score(y_pred_ensemble5, Ytest)}\")\n",
    "print()"
   ]
  },
  {
   "cell_type": "code",
   "execution_count": 356,
   "id": "958c1a40-a4c2-49be-b944-176634ff2cd0",
   "metadata": {
    "scrolled": true
   },
   "outputs": [
    {
     "name": "stdout",
     "output_type": "stream",
     "text": [
      "Mean Absolute Error: 0.8624560658351935\n",
      "Mean Squared Error: 1.5023150629238666\n",
      "Root Mean Squared Error: 1.225689627484816\n",
      "R^2 Score: 0.9688541733929595\n",
      "\n"
     ]
    }
   ],
   "source": [
    "# Using the best xgboost as the final due to space restiction during deployment, its high accuracy and low MAE\n",
    "ensemble_model6 = VotingRegressor(\n",
    "    estimators=[\n",
    "        ('best_xgb', best_xgb),\n",
    "    ]\n",
    ")\n",
    "\n",
    "ensemble_model6.fit(Xtrain, Ytrain)\n",
    "\n",
    "# Evaluate the ensemble on the test data\n",
    "y_pred_ensemble6 = ensemble_model6.predict(Xtest)\n",
    "print(f\"Mean Absolute Error: {mean_absolute_error(y_pred_ensemble6, Ytest)}\")\n",
    "print(f\"Mean Squared Error: {mean_squared_error(y_pred_ensemble6, Ytest)}\")\n",
    "print(f\"Root Mean Squared Error: {np.sqrt(mean_squared_error(y_pred_ensemble6, Ytest))}\")\n",
    "print(f\"R^2 Score: {r2_score(y_pred_ensemble6, Ytest)}\")\n",
    "print()"
   ]
  },
  {
   "cell_type": "markdown",
   "id": "xRQs52e6y9OL",
   "metadata": {
    "id": "xRQs52e6y9OL"
   },
   "source": [
    "## **5. Testing on the new Data**"
   ]
  },
  {
   "cell_type": "code",
   "execution_count": 334,
   "id": "420bddb2-d59c-4320-a8cd-8637a83ad1a9",
   "metadata": {},
   "outputs": [],
   "source": [
    "players_22 = pd.read_csv(\"players_22.csv\",low_memory=False)\n",
    "Xtest2 , Ytest2 = clean_players_22(players_22)"
   ]
  },
  {
   "cell_type": "code",
   "execution_count": 354,
   "id": "k3hmGkAabPAX",
   "metadata": {
    "id": "k3hmGkAabPAX"
   },
   "outputs": [
    {
     "name": "stdout",
     "output_type": "stream",
     "text": [
      "Model: VotingRegressor\n",
      "Mean Absolute Error: 1.1570222078251289\n",
      "Root Mean Squared Error: 1.5291664535446736\n",
      "R^2 Score: 0.9393502176645776\n",
      "\n"
     ]
    }
   ],
   "source": [
    "y_pred = ensemble_model6.predict(Xtest2)\n",
    "# Calculate and print evaluation metrics\n",
    "print(f\"Model: {type(ensemble_model6).__name__}\")\n",
    "print(f\"Mean Absolute Error: {mean_absolute_error(y_pred, Ytest2)}\")\n",
    "print(f\"Root Mean Squared Error: {np.sqrt(mean_squared_error(y_pred, Ytest2))}\")\n",
    "print(f\"R^2 Score: {r2_score(y_pred, Ytest2)}\")\n",
    "print()"
   ]
  },
  {
   "cell_type": "code",
   "execution_count": 336,
   "id": "24ffd9e9-f075-49f1-8740-c11e83edddaf",
   "metadata": {},
   "outputs": [
    {
     "data": {
      "text/plain": [
       "['main_final_model.pkl']"
      ]
     },
     "execution_count": 336,
     "metadata": {},
     "output_type": "execute_result"
    }
   ],
   "source": [
    "jb.dump(ensemble_model6, 'main_final_model.pkl', compress = 9)"
   ]
  },
  {
   "cell_type": "markdown",
   "id": "2b90e9f0-76f9-468a-9afb-a133a73d98ba",
   "metadata": {},
   "source": [
    "*******"
   ]
  }
 ],
 "metadata": {
  "accelerator": "GPU",
  "colab": {
   "gpuType": "T4",
   "provenance": []
  },
  "kernelspec": {
   "display_name": "Python 3 (ipykernel)",
   "language": "python",
   "name": "python3"
  },
  "language_info": {
   "codemirror_mode": {
    "name": "ipython",
    "version": 3
   },
   "file_extension": ".py",
   "mimetype": "text/x-python",
   "name": "python",
   "nbconvert_exporter": "python",
   "pygments_lexer": "ipython3",
   "version": "3.11.7"
  }
 },
 "nbformat": 4,
 "nbformat_minor": 5
}
